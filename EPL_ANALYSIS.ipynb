{
 "cells": [
  {
   "cell_type": "code",
   "execution_count": 45,
   "metadata": {},
   "outputs": [],
   "source": [
    "#import matplotlib,pandas and seaborn\n",
    "\n",
    "import matplotlib.pyplot as plt \n",
    "import pandas as pd \n",
    "import seaborn as sns "
   ]
  },
  {
   "cell_type": "markdown",
   "metadata": {},
   "source": [
    "## Task 1: Import the EPL data\n",
    "\n",
    "The English Premier League data is contained in a CSV file named `EPL.csv`.\n",
    "\n",
    "The dataset contains the following columns.\n",
    "\n",
    "- `Season`: Season year(s)\n",
    "- `Pos`: final position that season\n",
    "- `Team`: name of team \n",
    "- `Pld`: Number of matches played \n",
    "- `W`: Number of wins\n",
    "- `D`: Number of draws\n",
    "- `L`: Number of losses\n",
    "- `GF`: Goals scored that season\n",
    "- `GA`: Goals conceded that seasom\n",
    "- `GD`: Difference in goals scored vs. conceded\n",
    "- `Pts`: Total points at end of season\n",
    "- `Qualification or Relegation`: result at end of season"
   ]
  },
  {
   "cell_type": "code",
   "execution_count": 46,
   "metadata": {},
   "outputs": [
    {
     "data": {
      "text/html": [
       "<div>\n",
       "<style scoped>\n",
       "    .dataframe tbody tr th:only-of-type {\n",
       "        vertical-align: middle;\n",
       "    }\n",
       "\n",
       "    .dataframe tbody tr th {\n",
       "        vertical-align: top;\n",
       "    }\n",
       "\n",
       "    .dataframe thead th {\n",
       "        text-align: right;\n",
       "    }\n",
       "</style>\n",
       "<table border=\"1\" class=\"dataframe\">\n",
       "  <thead>\n",
       "    <tr style=\"text-align: right;\">\n",
       "      <th></th>\n",
       "      <th>Season</th>\n",
       "      <th>Pos</th>\n",
       "      <th>Team</th>\n",
       "      <th>Pld</th>\n",
       "      <th>W</th>\n",
       "      <th>D</th>\n",
       "      <th>L</th>\n",
       "      <th>GF</th>\n",
       "      <th>GA</th>\n",
       "      <th>GD</th>\n",
       "      <th>Pts</th>\n",
       "      <th>Qualification or relegation</th>\n",
       "    </tr>\n",
       "  </thead>\n",
       "  <tbody>\n",
       "    <tr>\n",
       "      <th>0</th>\n",
       "      <td>2000-01</td>\n",
       "      <td>1</td>\n",
       "      <td>Manchester United</td>\n",
       "      <td>38</td>\n",
       "      <td>24</td>\n",
       "      <td>8</td>\n",
       "      <td>6</td>\n",
       "      <td>79</td>\n",
       "      <td>31</td>\n",
       "      <td>48</td>\n",
       "      <td>80</td>\n",
       "      <td>Qualification for the Champions League first g...</td>\n",
       "    </tr>\n",
       "    <tr>\n",
       "      <th>1</th>\n",
       "      <td>2000-01</td>\n",
       "      <td>2</td>\n",
       "      <td>Arsenal</td>\n",
       "      <td>38</td>\n",
       "      <td>20</td>\n",
       "      <td>10</td>\n",
       "      <td>8</td>\n",
       "      <td>63</td>\n",
       "      <td>38</td>\n",
       "      <td>25</td>\n",
       "      <td>70</td>\n",
       "      <td>Qualification for the Champions League first g...</td>\n",
       "    </tr>\n",
       "    <tr>\n",
       "      <th>2</th>\n",
       "      <td>2000-01</td>\n",
       "      <td>3</td>\n",
       "      <td>Liverpool</td>\n",
       "      <td>38</td>\n",
       "      <td>20</td>\n",
       "      <td>9</td>\n",
       "      <td>9</td>\n",
       "      <td>71</td>\n",
       "      <td>39</td>\n",
       "      <td>32</td>\n",
       "      <td>69</td>\n",
       "      <td>Qualification for the Champions League third q...</td>\n",
       "    </tr>\n",
       "    <tr>\n",
       "      <th>3</th>\n",
       "      <td>2000-01</td>\n",
       "      <td>4</td>\n",
       "      <td>Leeds United</td>\n",
       "      <td>38</td>\n",
       "      <td>20</td>\n",
       "      <td>8</td>\n",
       "      <td>10</td>\n",
       "      <td>64</td>\n",
       "      <td>43</td>\n",
       "      <td>21</td>\n",
       "      <td>68</td>\n",
       "      <td>Qualification for the UEFA Cup first round[a]</td>\n",
       "    </tr>\n",
       "    <tr>\n",
       "      <th>4</th>\n",
       "      <td>2000-01</td>\n",
       "      <td>5</td>\n",
       "      <td>Ipswich Town</td>\n",
       "      <td>38</td>\n",
       "      <td>20</td>\n",
       "      <td>6</td>\n",
       "      <td>12</td>\n",
       "      <td>57</td>\n",
       "      <td>42</td>\n",
       "      <td>15</td>\n",
       "      <td>66</td>\n",
       "      <td>Qualification for the UEFA Cup first round[a]</td>\n",
       "    </tr>\n",
       "  </tbody>\n",
       "</table>\n",
       "</div>"
      ],
      "text/plain": [
       "    Season  Pos               Team  Pld   W   D   L  GF  GA  GD  Pts  \\\n",
       "0  2000-01    1  Manchester United   38  24   8   6  79  31  48   80   \n",
       "1  2000-01    2            Arsenal   38  20  10   8  63  38  25   70   \n",
       "2  2000-01    3          Liverpool   38  20   9   9  71  39  32   69   \n",
       "3  2000-01    4       Leeds United   38  20   8  10  64  43  21   68   \n",
       "4  2000-01    5       Ipswich Town   38  20   6  12  57  42  15   66   \n",
       "\n",
       "                         Qualification or relegation  \n",
       "0  Qualification for the Champions League first g...  \n",
       "1  Qualification for the Champions League first g...  \n",
       "2  Qualification for the Champions League third q...  \n",
       "3      Qualification for the UEFA Cup first round[a]  \n",
       "4      Qualification for the UEFA Cup first round[a]  "
      ]
     },
     "execution_count": 46,
     "metadata": {},
     "output_type": "execute_result"
    }
   ],
   "source": [
    "epl = pd.read_csv(r\"C:\\Users\\thika\\Downloads\\EPL.csv\")\n",
    "epl.head()"
   ]
  },
  {
   "cell_type": "code",
   "execution_count": 47,
   "metadata": {},
   "outputs": [
    {
     "name": "stdout",
     "output_type": "stream",
     "text": [
      "<class 'pandas.core.frame.DataFrame'>\n",
      "RangeIndex: 440 entries, 0 to 439\n",
      "Data columns (total 12 columns):\n",
      " #   Column                       Non-Null Count  Dtype \n",
      "---  ------                       --------------  ----- \n",
      " 0   Season                       440 non-null    object\n",
      " 1   Pos                          440 non-null    int64 \n",
      " 2   Team                         440 non-null    object\n",
      " 3   Pld                          440 non-null    int64 \n",
      " 4   W                            440 non-null    int64 \n",
      " 5   D                            440 non-null    int64 \n",
      " 6   L                            440 non-null    int64 \n",
      " 7   GF                           440 non-null    int64 \n",
      " 8   GA                           440 non-null    int64 \n",
      " 9   GD                           440 non-null    int64 \n",
      " 10  Pts                          440 non-null    int64 \n",
      " 11  Qualification or relegation  440 non-null    object\n",
      "dtypes: int64(9), object(3)\n",
      "memory usage: 41.4+ KB\n"
     ]
    }
   ],
   "source": [
    "epl.info()"
   ]
  },
  {
   "cell_type": "code",
   "execution_count": 48,
   "metadata": {},
   "outputs": [
    {
     "data": {
      "text/html": [
       "<div>\n",
       "<style scoped>\n",
       "    .dataframe tbody tr th:only-of-type {\n",
       "        vertical-align: middle;\n",
       "    }\n",
       "\n",
       "    .dataframe tbody tr th {\n",
       "        vertical-align: top;\n",
       "    }\n",
       "\n",
       "    .dataframe thead th {\n",
       "        text-align: right;\n",
       "    }\n",
       "</style>\n",
       "<table border=\"1\" class=\"dataframe\">\n",
       "  <thead>\n",
       "    <tr style=\"text-align: right;\">\n",
       "      <th></th>\n",
       "      <th>Season</th>\n",
       "      <th>Pos</th>\n",
       "      <th>Team</th>\n",
       "      <th>GF</th>\n",
       "      <th>GD</th>\n",
       "      <th>Pts</th>\n",
       "      <th>Qualification or relegation</th>\n",
       "    </tr>\n",
       "  </thead>\n",
       "  <tbody>\n",
       "    <tr>\n",
       "      <th>0</th>\n",
       "      <td>2000-01</td>\n",
       "      <td>1</td>\n",
       "      <td>Manchester United</td>\n",
       "      <td>79</td>\n",
       "      <td>48</td>\n",
       "      <td>80</td>\n",
       "      <td>Qualification for the Champions League first g...</td>\n",
       "    </tr>\n",
       "    <tr>\n",
       "      <th>1</th>\n",
       "      <td>2000-01</td>\n",
       "      <td>2</td>\n",
       "      <td>Arsenal</td>\n",
       "      <td>63</td>\n",
       "      <td>25</td>\n",
       "      <td>70</td>\n",
       "      <td>Qualification for the Champions League first g...</td>\n",
       "    </tr>\n",
       "    <tr>\n",
       "      <th>2</th>\n",
       "      <td>2000-01</td>\n",
       "      <td>3</td>\n",
       "      <td>Liverpool</td>\n",
       "      <td>71</td>\n",
       "      <td>32</td>\n",
       "      <td>69</td>\n",
       "      <td>Qualification for the Champions League third q...</td>\n",
       "    </tr>\n",
       "    <tr>\n",
       "      <th>3</th>\n",
       "      <td>2000-01</td>\n",
       "      <td>4</td>\n",
       "      <td>Leeds United</td>\n",
       "      <td>64</td>\n",
       "      <td>21</td>\n",
       "      <td>68</td>\n",
       "      <td>Qualification for the UEFA Cup first round[a]</td>\n",
       "    </tr>\n",
       "    <tr>\n",
       "      <th>4</th>\n",
       "      <td>2000-01</td>\n",
       "      <td>5</td>\n",
       "      <td>Ipswich Town</td>\n",
       "      <td>57</td>\n",
       "      <td>15</td>\n",
       "      <td>66</td>\n",
       "      <td>Qualification for the UEFA Cup first round[a]</td>\n",
       "    </tr>\n",
       "    <tr>\n",
       "      <th>...</th>\n",
       "      <td>...</td>\n",
       "      <td>...</td>\n",
       "      <td>...</td>\n",
       "      <td>...</td>\n",
       "      <td>...</td>\n",
       "      <td>...</td>\n",
       "      <td>...</td>\n",
       "    </tr>\n",
       "    <tr>\n",
       "      <th>435</th>\n",
       "      <td>2021-22</td>\n",
       "      <td>16</td>\n",
       "      <td>Everton</td>\n",
       "      <td>43</td>\n",
       "      <td>-23</td>\n",
       "      <td>39</td>\n",
       "      <td>Not Applicable</td>\n",
       "    </tr>\n",
       "    <tr>\n",
       "      <th>436</th>\n",
       "      <td>2021-22</td>\n",
       "      <td>17</td>\n",
       "      <td>Leeds United</td>\n",
       "      <td>42</td>\n",
       "      <td>-37</td>\n",
       "      <td>38</td>\n",
       "      <td>Not Applicable</td>\n",
       "    </tr>\n",
       "    <tr>\n",
       "      <th>437</th>\n",
       "      <td>2021-22</td>\n",
       "      <td>18</td>\n",
       "      <td>Burnley</td>\n",
       "      <td>34</td>\n",
       "      <td>-19</td>\n",
       "      <td>35</td>\n",
       "      <td>Relegation to the EFL Championship</td>\n",
       "    </tr>\n",
       "    <tr>\n",
       "      <th>438</th>\n",
       "      <td>2021-22</td>\n",
       "      <td>19</td>\n",
       "      <td>Watford</td>\n",
       "      <td>34</td>\n",
       "      <td>-43</td>\n",
       "      <td>23</td>\n",
       "      <td>Relegation to the EFL Championship</td>\n",
       "    </tr>\n",
       "    <tr>\n",
       "      <th>439</th>\n",
       "      <td>2021-22</td>\n",
       "      <td>20</td>\n",
       "      <td>Norwich City</td>\n",
       "      <td>23</td>\n",
       "      <td>-61</td>\n",
       "      <td>22</td>\n",
       "      <td>Relegation to the EFL Championship</td>\n",
       "    </tr>\n",
       "  </tbody>\n",
       "</table>\n",
       "<p>440 rows × 7 columns</p>\n",
       "</div>"
      ],
      "text/plain": [
       "      Season  Pos               Team  GF  GD  Pts  \\\n",
       "0    2000-01    1  Manchester United  79  48   80   \n",
       "1    2000-01    2            Arsenal  63  25   70   \n",
       "2    2000-01    3          Liverpool  71  32   69   \n",
       "3    2000-01    4       Leeds United  64  21   68   \n",
       "4    2000-01    5       Ipswich Town  57  15   66   \n",
       "..       ...  ...                ...  ..  ..  ...   \n",
       "435  2021-22   16            Everton  43 -23   39   \n",
       "436  2021-22   17       Leeds United  42 -37   38   \n",
       "437  2021-22   18            Burnley  34 -19   35   \n",
       "438  2021-22   19            Watford  34 -43   23   \n",
       "439  2021-22   20       Norwich City  23 -61   22   \n",
       "\n",
       "                           Qualification or relegation  \n",
       "0    Qualification for the Champions League first g...  \n",
       "1    Qualification for the Champions League first g...  \n",
       "2    Qualification for the Champions League third q...  \n",
       "3        Qualification for the UEFA Cup first round[a]  \n",
       "4        Qualification for the UEFA Cup first round[a]  \n",
       "..                                                 ...  \n",
       "435                                     Not Applicable  \n",
       "436                                     Not Applicable  \n",
       "437                 Relegation to the EFL Championship  \n",
       "438                 Relegation to the EFL Championship  \n",
       "439                 Relegation to the EFL Championship  \n",
       "\n",
       "[440 rows x 7 columns]"
      ]
     },
     "execution_count": 48,
     "metadata": {},
     "output_type": "execute_result"
    }
   ],
   "source": [
    "# Filter out the columns \n",
    "\n",
    "epl_analysis = epl[['Season','Pos','Team','GF','GD','Pts','Qualification or relegation']]\n",
    "epl_analysis"
   ]
  },
  {
   "cell_type": "markdown",
   "metadata": {},
   "source": [
    "## Task 2: Clean up the Qualification column to make it less _wordy_\n",
    "\n",
    ".In this section we are going to write a function to go through out newly created dataframe, editing the values in the 'Qualification or relegation' column.\n",
    "\n",
    ".This will make the data easier to work with when it comes time to create charts/plots.\n",
    "\n",
    ".This function will make some assumptions. Entries containing:\n",
    "\n",
    "`Champions League` will be simplified to Champions League\n",
    "\n",
    "`UEFA or Europa` will be simplified to Europa\n",
    "\n",
    "`Relegation` will be simplified to Relegation\n",
    "Anything else will be converted to - ."
   ]
  },
  {
   "cell_type": "code",
   "execution_count": 49,
   "metadata": {},
   "outputs": [],
   "source": [
    "def update_result(result):\n",
    "    if 'Champions League' in result:\n",
    "        result = 'Champions League'\n",
    "    elif 'Europa' in result or 'UEFA' in result:\n",
    "        result = 'Europa'\n",
    "    elif 'Relegation' in result:\n",
    "        result = 'relegation'\n",
    "\n",
    "    else:\n",
    "        result = '-'\n",
    "\n",
    "    return result"
   ]
  },
  {
   "cell_type": "code",
   "execution_count": 50,
   "metadata": {},
   "outputs": [
    {
     "name": "stdout",
     "output_type": "stream",
     "text": [
      "-                   220\n",
      "Champions League     89\n",
      "Europa               68\n",
      "relegation           63\n",
      "Name: Result, dtype: int64\n"
     ]
    }
   ],
   "source": [
    "# Update column name from 'Qualification or relegation' to 'Result'\n",
    "\n",
    "epl_analysis = epl_analysis.rename(columns={'Qualification or relegation':'Result'}) \n",
    "\n",
    "epl_analysis['Result'] = epl_analysis['Result'].apply(update_result)\n",
    "\n",
    "print(epl_analysis['Result'].value_counts())"
   ]
  },
  {
   "cell_type": "markdown",
   "metadata": {},
   "source": [
    "## Task 3: Group by Champions league, and examine the data\n",
    "\n",
    "We have a clean `Result` column that has categorical data that we can calculate on.\n",
    "\n",
    "Now we will select data from the `epl_analysis` table and perform some comparisons from season to season for teams that qualify for each competition."
   ]
  },
  {
   "cell_type": "markdown",
   "metadata": {},
   "source": [
    "- Create a variable `cl_qualification`. Assign it to the Champions league qualifiers from the `epl_analysis` table.\n",
    "- Create a `cl_qual_stats` variable. Using `cl_qualification`, group by season, then aggregate to get maximum position, minimum points, and minimum goal difference.\n",
    "- Print the qualifier statistics."
   ]
  },
  {
   "cell_type": "code",
   "execution_count": 51,
   "metadata": {},
   "outputs": [
    {
     "name": "stdout",
     "output_type": "stream",
     "text": [
      "         Pos  Pts  GD\n",
      "Season               \n",
      "2000-01    3   69  25\n",
      "2001-02    4   71  22\n",
      "2002-03    4   67  15\n",
      "2003-04    4   60  18\n",
      "2004-05    5   58  -1\n",
      "2005-06    4   67  32\n",
      "2006-07    4   68  28\n",
      "2007-08    4   76  39\n",
      "2008-09    4   72  31\n",
      "2009-10    4   70  26\n",
      "2010-11    4   68  27\n",
      "2011-12    6   64  19\n",
      "2012-13    4   73  32\n",
      "2013-14    4   79  27\n",
      "2014-15    4   70  25\n",
      "2015-16    4   66  29\n",
      "2016-17    6   69  25\n",
      "2017-18    4   75  38\n",
      "2018-19    4   71  24\n",
      "2019-20    4   66  15\n",
      "2020-21    4   67  22\n",
      "2021-22    4   71  29\n"
     ]
    }
   ],
   "source": [
    "cl_qualification = epl_analysis[epl_analysis[\"Result\"]== \"Champions League\"]\n",
    "\n",
    "cl_qual_stats = cl_qualification.groupby('Season').agg({'Pos':'max','Pts':'min','GD':'min'})\n",
    "\n",
    "print(cl_qual_stats)                         "
   ]
  },
  {
   "cell_type": "code",
   "execution_count": 52,
   "metadata": {},
   "outputs": [
    {
     "name": "stdout",
     "output_type": "stream",
     "text": [
      "         Pos  Pts  GD\n",
      "Season               \n",
      "2000-01    6   61  15\n",
      "2001-02   18   36 -23\n",
      "2002-03    9   51  -7\n",
      "2003-04   11   48  -8\n",
      "2004-05    7   55   5\n",
      "2005-06    9   55  -3\n",
      "2006-07    7   56  -5\n",
      "2007-08   11   46  -8\n",
      "2008-09    7   53   5\n",
      "2009-10    7   63  13\n",
      "2010-11   18   39 -21\n",
      "2011-12    8   52   5\n",
      "2012-13   18   36 -26\n",
      "2013-14   16   37 -15\n",
      "2014-15   12   47  -3\n",
      "2015-16    7   62  14\n",
      "2016-17    7   61  18\n",
      "2017-18    7   54  -3\n",
      "2018-19    7   57   1\n",
      "2019-20    8   56   8\n",
      "2020-21    7   62  15\n",
      "2021-22    7   56   0\n"
     ]
    }
   ],
   "source": [
    "europa_qualification = epl_analysis[epl_analysis[\"Result\"] == \"Europa\"]\n",
    "\n",
    "europa_qualification_stats = europa_qualification.groupby('Season').agg({'Pos':'max','Pts':'min','GD':'min'}) \n",
    "\n",
    "print(europa_qualification_stats)\n",
    "                                                                        "
   ]
  },
  {
   "cell_type": "markdown",
   "metadata": {},
   "source": [
    "- Most of the time 70+ Pts will qualify you for the Champions League, however not always.\n",
    "- Usually, it takes around 55 Pts to qualify for the Europa league.\n",
    "- GD isn't a great predictor of which competition a team will qualify for as there is such a wide range."
   ]
  },
  {
   "cell_type": "markdown",
   "metadata": {},
   "source": [
    "There is an obseravtion made which maybe outliers:\n",
    "\n",
    "- Only 3 occasions has a team below 4th qualified for the Champions League.\n",
    "- Only 1 time has a team qualified for the CL with under 60 Pts.\n",
    "    - In that year, a team also qualified with a negative GD (only time a team has qualified with <10 GD).\n",
    "- On 3 separate occasions a team has qualified for Europa league and been relegated in the same year."
   ]
  },
  {
   "cell_type": "markdown",
   "metadata": {},
   "source": [
    "## Task 5: Plot a Time Series of EPL winners and Relegated teams for 2000&ndash;2022"
   ]
  },
  {
   "cell_type": "markdown",
   "metadata": {},
   "source": [
    "- Select the teams from the `epl_analysis` table where `'Pos' == 1` and store as `epl_winners`.\n",
    "- Select the teams from the `epl_analysis` table where `'Pos' == 18` and store as `relegation_zone`.\n",
    "- Reset the indexes for both.\n",
    "- Set figure size to be 12 x 6.\n",
    "- Use seaborn (`sns`) lineplot to Season vs Pts for winners and relegated teams.\n",
    "- Display the plot."
   ]
  },
  {
   "cell_type": "code",
   "execution_count": 53,
   "metadata": {},
   "outputs": [
    {
     "ename": "TypeError",
     "evalue": "'str' object is not callable",
     "output_type": "error",
     "traceback": [
      "\u001b[1;31m---------------------------------------------------------------------------\u001b[0m",
      "\u001b[1;31mTypeError\u001b[0m                                 Traceback (most recent call last)",
      "Cell \u001b[1;32mIn[53], line 18\u001b[0m\n\u001b[0;32m     15\u001b[0m plt\u001b[38;5;241m.\u001b[39mxticks(rotation \u001b[38;5;241m=\u001b[39m \u001b[38;5;241m90\u001b[39m)\n\u001b[0;32m     17\u001b[0m plt\u001b[38;5;241m.\u001b[39mtitle(\u001b[38;5;124m'\u001b[39m\u001b[38;5;124mPoints of EPL Winners & Relegated Teams\u001b[39m\u001b[38;5;124m'\u001b[39m)\n\u001b[1;32m---> 18\u001b[0m \u001b[43mplt\u001b[49m\u001b[38;5;241;43m.\u001b[39;49m\u001b[43mxlabel\u001b[49m\u001b[43m(\u001b[49m\u001b[38;5;124;43m'\u001b[39;49m\u001b[38;5;124;43mSeason\u001b[39;49m\u001b[38;5;124;43m'\u001b[39;49m\u001b[43m)\u001b[49m\n\u001b[0;32m     19\u001b[0m plt\u001b[38;5;241m.\u001b[39mylabel(\u001b[38;5;124m'\u001b[39m\u001b[38;5;124mPoints\u001b[39m\u001b[38;5;124m'\u001b[39m)\n\u001b[0;32m     21\u001b[0m plt\u001b[38;5;241m.\u001b[39mshow()\n",
      "\u001b[1;31mTypeError\u001b[0m: 'str' object is not callable"
     ]
    },
    {
     "data": {
      "image/png": "[encoded data removed]",
      "text/plain": [
       "<Figure size 1200x600 with 1 Axes>"
      ]
     },
     "metadata": {},
     "output_type": "display_data"
    }
   ],
   "source": [
    "epl_winners = epl_analysis[epl_analysis[\"Pos\"] == 1]\n",
    "epl_winners = epl_winners.reset_index(drop = True)\n",
    "\n",
    "relegation_zone = epl_analysis[epl_analysis[\"Pos\"]==18]\n",
    "relegation_zone = relegation_zone.reset_index(drop=True)\n",
    "\n",
    "plt.figure(figsize=(12,6))\n",
    "\n",
    "sns.lineplot(x = 'Season', y = 'Pts', data=epl_winners,\n",
    "              marker='o', color='#38003c', label='winner')\n",
    "\n",
    "sns.lineplot(x='Season', y='Pts', data=relegation_zone,\n",
    "             marker='o',color='green', label='relegation')\n",
    "\n",
    "plt.xticks(rotation = 90)\n",
    "\n",
    "plt.title('Points of EPL Winners & Relegated Teams')\n",
    "plt.xlabel('Season')\n",
    "plt.ylabel('Points')\n",
    "\n",
    "plt.show()\n",
    "\n",
    "\n",
    "#Lets find a correlation between the teams that win the premier league,\n",
    "  #and those that are relegated\n",
    "\n",
    "print(epl_winners.Pts.sub(relegation_zone.Pts).mean())\n",
    "\n",
    "print(epl_winners.Pts.corr(relegation_zone.Pts))"
   ]
  },
  {
   "cell_type": "markdown",
   "metadata": {},
   "source": [
    "- Here we can see there is a weak negative correlation `-0.3` between the amount of Pts to win the premier league vs the amount of points teams need to avoid relegation.\n",
    "    - A negative correlation means that when top teams do really well, the relegation threshold is usually lower"
   ]
  },
  {
   "cell_type": "markdown",
   "metadata": {},
   "source": [
    "- We can see from the gap that the _best_ relegated team is pretty much always between 30 and 40 pts (usually around 35).\n",
    "- We can also clearly see that no team has won the league with less than 80pts (since 2000-01).\n",
    "- It looks as though the pts needed to win the league is slowly increasing, whereas the pts to avoid relegation are staying roughly the same. "
   ]
  },
  {
   "cell_type": "markdown",
   "metadata": {},
   "source": [
    "## Task 6: Create a Bar Chart Showing Premier League + European Years for Each Team"
   ]
  },
  {
   "cell_type": "markdown",
   "metadata": {},
   "source": [
    "- Create a variable `team_counts` and store the number of times each team appears in our `epl_analysis` data.\n",
    "- This is the number of years each team has been in the premier league.\n",
    "- To find European qualifications, count the number of times the `'Result'` column in `epl_analysis` has contained `'Europa'` or `'Champions League'` for each team.\n",
    "- To do this we first need to find the index for each time a team qualified for europe by using the `.isin()` on the `'Result'` column of our `epl_analysis` data. Store this in `euro_ids`\n",
    "- Filter the `'Teams'` column of the `epl_analysis` data based on `euro_ids`, then return the `.value_counts()`. Store this as `euro_year_counts`"
   ]
  },
  {
   "cell_type": "code",
   "execution_count": 54,
   "metadata": {},
   "outputs": [],
   "source": [
    "team_counts = epl_analysis['Team'].value_counts()\n",
    "\n",
    "euro_ids = epl_analysis['Result'].isin(['Europa','Champions League'])\n",
    "\n",
    "euro_year_counts = epl_analysis[euro_ids]['Team'].value_counts()"
   ]
  },
  {
   "cell_type": "markdown",
   "metadata": {},
   "source": [
    "- Draw bar plots for `team_counts` and `euro_year_counts` to see how many seasons each team has been in the Premier League, and how many times each team has qualified for european competitions.\n",
    "\n",
    "- For the `team_counts` plot:\n",
    "    - Color the bars with `red`.\n",
    "    - Set the y-axis label to `Years in EPL`\n",
    "    - Rotate x-axis labels by 90 degrees.\n",
    "    - Show the plot.\n",
    "   \n",
    "- Draw the same plot but with `euro_year_counts` on the y-axis to see how many times each team has qualified for european competitons.\n",
    "    - This time color the bars with `black`.\n",
    "    - Set the y-axis label to `Years in European Competition`."
   ]
  },
  {
   "cell_type": "code",
   "execution_count": 55,
   "metadata": {},
   "outputs": [
    {
     "ename": "TypeError",
     "evalue": "'str' object is not callable",
     "output_type": "error",
     "traceback": [
      "\u001b[1;31m---------------------------------------------------------------------------\u001b[0m",
      "\u001b[1;31mTypeError\u001b[0m                                 Traceback (most recent call last)",
      "Cell \u001b[1;32mIn[55], line 3\u001b[0m\n\u001b[0;32m      1\u001b[0m fig \u001b[38;5;241m=\u001b[39m plt\u001b[38;5;241m.\u001b[39mfigure(figsize\u001b[38;5;241m=\u001b[39m(\u001b[38;5;241m12\u001b[39m, \u001b[38;5;241m6\u001b[39m))\n\u001b[0;32m      2\u001b[0m sns\u001b[38;5;241m.\u001b[39mbarplot(data\u001b[38;5;241m=\u001b[39mteam_counts, color\u001b[38;5;241m=\u001b[39m\u001b[38;5;124m'\u001b[39m\u001b[38;5;124m#38003c\u001b[39m\u001b[38;5;124m'\u001b[39m)\n\u001b[1;32m----> 3\u001b[0m \u001b[43mplt\u001b[49m\u001b[38;5;241;43m.\u001b[39;49m\u001b[43mylabel\u001b[49m\u001b[43m(\u001b[49m\u001b[38;5;124;43m'\u001b[39;49m\u001b[38;5;124;43mYears in EPL\u001b[39;49m\u001b[38;5;124;43m'\u001b[39;49m\u001b[43m)\u001b[49m\n\u001b[0;32m      4\u001b[0m plt\u001b[38;5;241m.\u001b[39mxticks(rotation\u001b[38;5;241m=\u001b[39m\u001b[38;5;241m90\u001b[39m)\n\u001b[0;32m      5\u001b[0m plt\u001b[38;5;241m.\u001b[39mshow()\n",
      "\u001b[1;31mTypeError\u001b[0m: 'str' object is not callable"
     ]
    },
    {
     "data": {
      "image/png": "[encoded data removed]",
      "text/plain": [
       "<Figure size 1200x600 with 1 Axes>"
      ]
     },
     "metadata": {},
     "output_type": "display_data"
    }
   ],
   "source": [
    "fig = plt.figure(figsize=(12, 6))\n",
    "sns.barplot(data=team_counts, color='#38003c')\n",
    "plt.ylabel('Years in EPL')\n",
    "plt.xticks(rotation=90)\n",
    "plt.show()"
   ]
  }
 ],
 "metadata": {
  "kernelspec": {
   "display_name": "base",
   "language": "python",
   "name": "python3"
  },
  "language_info": {
   "codemirror_mode": {
    "name": "ipython",
    "version": 3
   },
   "file_extension": ".py",
   "mimetype": "text/x-python",
   "name": "python",
   "nbconvert_exporter": "python",
   "pygments_lexer": "ipython3",
   "version": "3.11.4"
  }
 },
 "nbformat": 4,
 "nbformat_minor": 2
}
